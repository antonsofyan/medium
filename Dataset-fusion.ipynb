{
 "cells": [
  {
   "cell_type": "code",
   "execution_count": 1,
   "metadata": {
    "collapsed": true
   },
   "outputs": [],
   "source": [
    "import math\n",
    "import sys\n",
    "import time\n",
    "import numpy as np\n",
    "import pandas as pd\n",
    "import matplotlib.pyplot as plt\n",
    "from scipy.optimize import minimize\n",
    "from scipy.stats import norm \n",
    "from scipy.special import comb\n",
    "import warnings\n",
    "warnings.filterwarnings(\"ignore\")\n",
    "\n",
    "np.set_printoptions(suppress=True)\n",
    "np.set_printoptions(precision=4)"
   ]
  },
  {
   "cell_type": "code",
   "execution_count": 2,
   "metadata": {
    "collapsed": true
   },
   "outputs": [],
   "source": [
    "# True quality scores used to generate pairwise comparisons (pwc_mat) and mean opinion scores (mos_mat)\n",
    "Q_true = np.array([0,0.4084,0.9614,0.9797,0.1016,0.1708,0.1780,0.2378,0.2785]);\n",
    "\n",
    "# Dataset 1 has four conditions and dataset 2 has five conditions\n",
    "dataset_sizes = np.array([4,5])\n",
    "\n",
    "# Matrix with pairwise comparisons: pwc_mat[i,j] is the number of times condition i was selected over j\n",
    "pwc_mat =np.array ([[0, 0, 0, 3, 0, 3, 0, 0, 0],\n",
    "                    [6, 0, 0, 0, 0, 6, 0, 0, 5],\n",
    "                    [0, 0, 0, 0, 0, 0, 0, 0, 0],\n",
    "                    [3, 6, 0, 0, 6, 0, 0, 9, 0],\n",
    "                    [0, 0, 0, 4, 0, 2, 3, 2, 3],\n",
    "                    [7, 4, 0, 0, 4, 0, 3, 3, 3],\n",
    "                    [0, 0, 0, 0, 3, 3, 0, 3, 4],\n",
    "                    [0, 0, 0, 1, 4, 3, 3, 0, 2],\n",
    "                    [0, 5, 0, 0, 3, 3, 2, 4, 0]])\n",
    "\n",
    "# Matrix with mean opinion scores - nan valus indicate that conditions were not measured\n",
    "mos_mat = np.array([[3,4,5,5,np.NaN,np.NaN,np.NaN,np.NaN,np.NaN],\n",
    "                    [5,7,7,7,np.NaN,np.NaN,np.NaN,np.NaN,np.NaN],\n",
    "                    [9,7,8,9,np.NaN,np.NaN,np.NaN,np.NaN,np.NaN],\n",
    "                    [9,9,9,8,np.NaN,np.NaN,np.NaN,np.NaN,np.NaN],\n",
    "                    [np.NaN, np.NaN,np.NaN,np.NaN,3,2,3,3,2],\n",
    "                    [np.NaN, np.NaN,np.NaN,np.NaN,np.NaN,np.NaN,np.NaN,np.NaN,np.NaN],\n",
    "                    [np.NaN, np.NaN,np.NaN,np.NaN,4,3,3,3,2],\n",
    "                    [np.NaN, np.NaN,np.NaN,np.NaN,3,3,3,4,2],\n",
    "                    [np.NaN, np.NaN,np.NaN,np.NaN,3,2,4,4,3]])\n"
   ]
  },
  {
   "cell_type": "code",
   "execution_count": 3,
   "metadata": {
    "collapsed": true
   },
   "outputs": [],
   "source": [
    "def preprocess_data(D, M):\n",
    "    # Function to prepare the data for optimisation - pre-compute matrices to avoid \n",
    "    # repetitive computations in the optimisation\n",
    "    \n",
    "    # Number of conditions\n",
    "    N = D.shape[1]\n",
    "    \n",
    "    # non-zero elements in pwc_mat\n",
    "    nnz_pwc   = (D+D.T)>0\n",
    "    \n",
    "    # select non-zero elements from D and D transpose\n",
    "    D_nnz = D[nnz_pwc]\n",
    "    DT_nnz = D.T[nnz_pwc]\n",
    "    Dt = D.T\n",
    "    D_sum = D+Dt\n",
    "    \n",
    "    # Compute N choose K and select only conditions for which pairwise comparisons were collected\n",
    "    NK = comb(D_sum.T, D)\n",
    "    NK_nnz = NK[nnz_pwc]\n",
    "    \n",
    "    return NK_nnz, DT_nnz, D_nnz, nnz_pwc"
   ]
  },
  {
   "cell_type": "code",
   "execution_count": 4,
   "metadata": {},
   "outputs": [],
   "source": [
    "def exp_prob(x,D_nnz, DT_nnz, M, nnz_pwc, NK_nnz,sigma_cdf, sigma, N_conds, N_obs,dataset_sizes):\n",
    "    # Scipy optimise procedure for the mixing of MOS and PWC\n",
    "\n",
    "    # Extract parameters to optimize\n",
    "    q = np.zeros(N_conds)\n",
    "    q[1:N_conds]=x[:(N_conds-1)]\n",
    "    a = x[(N_conds-1):N_conds+1]\n",
    "    b = x[N_conds+1:N_conds+3]\n",
    "    c = x[N_conds+3:]\n",
    "    \n",
    "    # Create arrays a,b and c of size N_conds, one element per each quality score\n",
    "    a_opt = np.empty((0))\n",
    "    b_opt = np.empty((0))\n",
    "    c_opt = np.empty((0))\n",
    "    for ii in range(0,len(dataset_sizes)):\n",
    "        a_opt = np.concatenate((a_opt,np.ones(dataset_sizes[ii])*a[ii]),axis=0)\n",
    "        b_opt = np.concatenate((b_opt,np.ones(dataset_sizes[ii])*b[ii]),axis=0)\n",
    "        c_opt = np.concatenate((c_opt,np.ones(dataset_sizes[ii])*c[ii]),axis=0)\n",
    "\n",
    "    # Create matrix of probabilities for pairwise comparisons\n",
    "    xrrsh = np.reshape(np.repeat(q,N_conds, axis = 0),(N_conds,N_conds))\n",
    "    Pd    = norm.cdf(xrrsh-xrrsh.T,0,sigma_cdf)\n",
    "    p_pwc = np.multiply(NK_nnz,np.multiply((Pd[nnz_pwc]**D_nnz),(1-Pd[nnz_pwc])**DT_nnz))\n",
    "    \n",
    "    \n",
    "    # Create matrix of probabilities for mean opinion scores\n",
    "    rep_mat_abc = np.reshape(np.repeat(a_opt*q+b_opt,N_obs, axis = 0),(N_conds,N_obs))\n",
    "    p_mos = norm.pdf(M, rep_mat_abc , np.transpose(np.tile(np.transpose(abs(a_opt)*c_opt*sigma),(N_obs,1))))\n",
    "    p_mos[np.isnan(p_mos)]=1.0\n",
    "    \n",
    "    # Create prior\n",
    "    prior = norm.pdf(q, np.mean(q), math.sqrt(N_conds)*sigma)\n",
    "    \n",
    "    p_pwc[p_pwc<10**-20] = 10**-20\n",
    "    p_mos[p_mos<10**-20] = 10**-20\n",
    "    \n",
    "    P1 = -np.sum(np.log(p_pwc)) \n",
    "    P2 = -np.sum(np.sum(np.log(p_mos)))\n",
    "    P3 = -np.sum(np.log(prior))\n",
    "    \n",
    "    P  = P1+P2+P3\n",
    "    \n",
    "    # Make sure that c is greater than 0, required for the p_mos\n",
    "    if any(c<0):\n",
    "        P = P*10\n",
    "    \n",
    "    return P\n"
   ]
  },
  {
   "cell_type": "code",
   "execution_count": 7,
   "metadata": {
    "scrolled": false
   },
   "outputs": [],
   "source": [
    "def unify_datasets(D,M,dataset_sizes):\n",
    "    \n",
    "    # Preprocess the data\n",
    "    NK_nnz, DT_nnz, D_nnz, nnz_pwc = preprocess_data(pwc_mat,mos_mat)\n",
    "    \n",
    "    # create initial parameters\n",
    "    N_conds = M.shape[0]\n",
    "    N_obs =  M.shape[1]\n",
    "    sigma_cdf = 1.4826\n",
    "    sigma = sigma_cdf/(math.sqrt(2))\n",
    "\n",
    "    a_array = np.ones(dataset_sizes.shape[0])\n",
    "    b_array = np.zeros(dataset_sizes.shape[0])\n",
    "    c_array = np.ones(dataset_sizes.shape[0])\n",
    "\n",
    "    x0 = np.concatenate((np.zeros(N_conds-1),a_array),axis=0)\n",
    "    x0 = np.concatenate((x0,b_array),axis=0)\n",
    "    x0 = np.concatenate((x0,c_array),axis=0)\n",
    "\n",
    "\n",
    "    t0 = time.time()\n",
    "    # optimise to find quality scores and parameters a, b and c\n",
    "    res = minimize(exp_prob, x0,args = (D_nnz, DT_nnz, mos_mat, nnz_pwc, NK_nnz,sigma_cdf, sigma,N_conds,N_obs,dataset_sizes), method='BFGS', options={'maxiter': 100000})\n",
    "    t1 = time.time()\n",
    "    total = t1-t0\n",
    "    \n",
    "    # Extract individual arrays of parameters\n",
    "    Q_opt = np.concatenate((np.zeros(1),res.x[0:N_conds-1]), axis=0)\n",
    "    a = res.x[N_conds-1:N_conds+1]\n",
    "    b = res.x[N_conds+1:N_conds+3]\n",
    "    c = res.x[N_conds+3:]\n",
    "\n",
    "    return Q_opt, a,b,c"
   ]
  },
  {
   "cell_type": "code",
   "execution_count": 8,
   "metadata": {},
   "outputs": [],
   "source": [
    "# Find quality scores for matrices of pairwise comparisons and mean opinion scores\n",
    "Q_opt, a,b,c = unify_datasets(D=pwc_mat,M=mos_mat, dataset_sizes=dataset_sizes)"
   ]
  },
  {
   "cell_type": "code",
   "execution_count": 9,
   "metadata": {},
   "outputs": [
    {
     "data": {
      "image/png": "[encoded data removed]",
      "text/plain": [
       "<Figure size 432x288 with 1 Axes>"
      ]
     },
     "metadata": {},
     "output_type": "display_data"
    }
   ],
   "source": [
    "plt.plot(Q_opt[:dataset_sizes[0]], Q_true[:dataset_sizes[0]],'r*')\n",
    "plt.plot(Q_opt[dataset_sizes[0]:], Q_true[dataset_sizes[0]:],'b*')\n",
    "plt.xlabel('Predicted quality')\n",
    "plt.ylabel('True quality')\n",
    "ds1_legend = 'Dataset 1, a = '+str(round(a[0]*100)/100)+'; b = '+str(round(b[0]*100)/100)+'; c = '+str(round(c[0]*100)/100)\n",
    "ds2_legend = 'Dataset 2, a = '+str(round(a[1]*100)/100)+'; b = '+str(round(b[1]*100)/100)+'; c = '+str(round(c[1]*100)/100)\n",
    "plt.legend((ds1_legend, ds2_legend))\n",
    "plt.grid()\n",
    "plt.show()"
   ]
  },
  {
   "cell_type": "code",
   "execution_count": null,
   "metadata": {
    "collapsed": true
   },
   "outputs": [],
   "source": []
  },
  {
   "cell_type": "code",
   "execution_count": null,
   "metadata": {
    "collapsed": true
   },
   "outputs": [],
   "source": []
  }
 ],
 "metadata": {
  "kernelspec": {
   "display_name": "Python 3",
   "language": "python",
   "name": "python3"
  },
  "language_info": {
   "codemirror_mode": {
    "name": "ipython",
    "version": 3
   },
   "file_extension": ".py",
   "mimetype": "text/x-python",
   "name": "python",
   "nbconvert_exporter": "python",
   "pygments_lexer": "ipython3",
   "version": "3.6.2"
  }
 },
 "nbformat": 4,
 "nbformat_minor": 2
}
